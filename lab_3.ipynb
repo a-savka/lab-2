{
  "nbformat": 4,
  "nbformat_minor": 0,
  "metadata": {
    "colab": {
      "provenance": [],
      "authorship_tag": "ABX9TyOOur/PDLUD7TwxUdNdQMEa",
      "include_colab_link": true
    },
    "kernelspec": {
      "name": "python3",
      "display_name": "Python 3"
    },
    "language_info": {
      "name": "python"
    }
  },
  "cells": [
    {
      "cell_type": "markdown",
      "metadata": {
        "id": "view-in-github",
        "colab_type": "text"
      },
      "source": [
        "<a href=\"https://colab.research.google.com/github/a-savka/lab-2/blob/main/lab_3.ipynb\" target=\"_parent\"><img src=\"https://colab.research.google.com/assets/colab-badge.svg\" alt=\"Open In Colab\"/></a>"
      ]
    },
    {
      "cell_type": "markdown",
      "source": [
        " Решение ханойской головоломки"
      ],
      "metadata": {
        "id": "ViPu6eWqT2KO"
      }
    },
    {
      "cell_type": "code",
      "execution_count": 24,
      "metadata": {
        "colab": {
          "base_uri": "https://localhost:8080/"
        },
        "id": "kRcKyQFaGFkX",
        "outputId": "e691509c-7970-46a1-e377-7bf2d9309c8d"
      },
      "outputs": [
        {
          "output_type": "stream",
          "name": "stdout",
          "text": [
            "Исходное состояние\n",
            "A => |____|-|___|-|__|-|_|, B => , C => \n",
            "\n",
            "Переместить диск с A на B\n",
            "A => |____|-|___|-|__|, B => |_|, C => \n",
            "\n",
            "Переместить диск с A на C\n",
            "A => |____|-|___|, B => |_|, C => |__|\n",
            "\n",
            "Переместить диск с B на C\n",
            "A => |____|-|___|, B => , C => |__|-|_|\n",
            "\n",
            "Переместить диск с A на B\n",
            "A => |____|, B => |___|, C => |__|-|_|\n",
            "\n",
            "Переместить диск с C на A\n",
            "A => |____|-|_|, B => |___|, C => |__|\n",
            "\n",
            "Переместить диск с C на B\n",
            "A => |____|-|_|, B => |___|-|__|, C => \n",
            "\n",
            "Переместить диск с A на B\n",
            "A => |____|, B => |___|-|__|-|_|, C => \n",
            "\n",
            "Переместить диск с A на C\n",
            "A => , B => |___|-|__|-|_|, C => |____|\n",
            "\n",
            "Переместить диск с B на C\n",
            "A => , B => |___|-|__|, C => |____|-|_|\n",
            "\n",
            "Переместить диск с B на A\n",
            "A => |__|, B => |___|, C => |____|-|_|\n",
            "\n",
            "Переместить диск с C на A\n",
            "A => |__|-|_|, B => |___|, C => |____|\n",
            "\n",
            "Переместить диск с B на C\n",
            "A => |__|-|_|, B => , C => |____|-|___|\n",
            "\n",
            "Переместить диск с A на B\n",
            "A => |__|, B => |_|, C => |____|-|___|\n",
            "\n",
            "Переместить диск с A на C\n",
            "A => , B => |_|, C => |____|-|___|-|__|\n",
            "\n",
            "Переместить диск с B на C\n",
            "A => , B => , C => |____|-|___|-|__|-|_|\n",
            "\n"
          ]
        }
      ],
      "source": [
        "\n",
        "\n",
        "def hanoi(n, from_peg, to_peg, spare_peg, state):\n",
        "  \"\"\"\n",
        "  Функция для решения головоломки \"Ханойская башня\".\n",
        "\n",
        "  Args:\n",
        "    n: Количество дисков.\n",
        "    from_peg: Исходный стержень.\n",
        "    to_peg: Целевой стержень.\n",
        "    spare_peg: Дополнительный стержень.\n",
        "    state: Текущее состояние башен\n",
        "\n",
        "  Returns:\n",
        "    None.\n",
        "  \"\"\"\n",
        "\n",
        "  if n == 1:\n",
        "    moveDisk(from_peg, to_peg, state)\n",
        "  else:\n",
        "    # Переместить n-1 диск с исходного стержня на дополнительный стержень.\n",
        "    hanoi(n - 1, from_peg, spare_peg, to_peg, state)\n",
        "    # Переместить верхний диск с исходного стержня на целевой стержень.\n",
        "    moveDisk(from_peg, to_peg, state)\n",
        "    # Переместить n-1 диск с дополнительного стержня на целевой стержень.\n",
        "    hanoi(n - 1, spare_peg, to_peg, from_peg, state)\n",
        "\n",
        "\n",
        "def moveDisk(from_peg, to_peg, state):\n",
        "  \"\"\"\n",
        "  Функция перемещения одного диска.\n",
        "\n",
        "  Args:\n",
        "    from_peg: Исходный стержень.\n",
        "    to_peg: Целевой стержень.\n",
        "    state: Текущее состояние башен\n",
        "\n",
        "  Returns:\n",
        "    None.\n",
        "  \"\"\"\n",
        "\n",
        "  print(\"Переместить диск с\", from_peg, \"на\", to_peg)\n",
        "  el = state[from_peg].pop()\n",
        "  state[to_peg].append(el)\n",
        "  printState(state)\n",
        "  print()\n",
        "\n",
        "\n",
        "def printState(state):\n",
        "  \"\"\"\n",
        "  Функция печати на экран текущего состояния башен.\n",
        "\n",
        "  Args:\n",
        "    state: Текущее состояние башен\n",
        "\n",
        "  Returns:\n",
        "    None.\n",
        "  \"\"\"\n",
        "\n",
        "  aState = '-'.join(state['A'])\n",
        "  bState = '-'.join(state['B'])\n",
        "  cState = '-'.join(state['C'])\n",
        "  print(f'A => {aState}, B => {bState}, C => {cState}')\n",
        "\n",
        "\n",
        "# Количество дисков.\n",
        "n = 4\n",
        "\n",
        "# Исходный стержень.\n",
        "from_peg = \"A\"\n",
        "\n",
        "# Целевой стержень.\n",
        "to_peg = \"C\"\n",
        "\n",
        "# Вспомогательный стержень.\n",
        "spare_peg = \"B\"\n",
        "\n",
        "\n",
        "# Исходное состояние башен, инициализируем заданным количеством дисков на исходном стержне\n",
        "state = {\n",
        "  from_peg: ['|'+ '_' * i +'|' for i in range (n,0,-1)],\n",
        "  spare_peg: [],\n",
        "  to_peg: []\n",
        "}\n",
        "\n",
        "print('Исходное состояние')\n",
        "printState(state)\n",
        "print()\n",
        "\n",
        "# Решение головоломки.\n",
        "hanoi(n, from_peg, to_peg, spare_peg, state)"
      ]
    }
  ]
}